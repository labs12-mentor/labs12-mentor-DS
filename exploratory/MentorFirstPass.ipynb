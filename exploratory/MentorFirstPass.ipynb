{
 "cells": [
  {
   "cell_type": "code",
   "execution_count": 25,
   "metadata": {
    "scrolled": true
   },
   "outputs": [
    {
     "name": "stdout",
     "output_type": "stream",
     "text": [
      "Collecting spacy\n",
      "\u001b[?25l  Downloading https://files.pythonhosted.org/packages/77/f3/eb5aece989ecca541c4b5a439cb8a86fe5254b1521925b547609fb3aaf64/spacy-2.1.3.tar.gz (27.7MB)\n",
      "\u001b[K    100% |████████████████████████████████| 27.7MB 314kB/s ta 0:00:01   27% |████████▉                       | 7.6MB 855kB/s eta 0:00:24    53% |█████████████████▏              | 14.8MB 706kB/s eta 0:00:19    97% |███████████████████████████████▎| 27.0MB 683kB/s eta 0:00:01\n",
      "\u001b[?25h  Installing build dependencies ... \u001b[?25ldone\n",
      "\u001b[?25h  Getting requirements to build wheel ... \u001b[?25ldone\n",
      "\u001b[?25h    Preparing wheel metadata ... \u001b[?25ldone\n",
      "\u001b[?25hCollecting cymem<2.1.0,>=2.0.2 (from spacy)\n",
      "  Using cached https://files.pythonhosted.org/packages/d7/11/37da628920bf2999bd8c4ffc40908413622486d5dbc4e60d87a58c428367/cymem-2.0.2-cp37-cp37m-macosx_10_6_intel.macosx_10_9_intel.macosx_10_9_x86_64.macosx_10_10_intel.macosx_10_10_x86_64.whl\n",
      "Collecting wasabi<1.1.0,>=0.2.0 (from spacy)\n",
      "  Using cached https://files.pythonhosted.org/packages/76/6c/0376977df1ba9f0ec27835d80456d9284c79737cb5205649451db1181f01/wasabi-0.2.1-py3-none-any.whl\n",
      "Collecting preshed<2.1.0,>=2.0.1 (from spacy)\n",
      "  Using cached https://files.pythonhosted.org/packages/48/fe/2f2e8c91541785f2abe0d51f37eb00356513b9ff3d24fb27fd5b59e18264/preshed-2.0.1-cp37-cp37m-macosx_10_6_intel.macosx_10_9_intel.macosx_10_9_x86_64.macosx_10_10_intel.macosx_10_10_x86_64.whl\n",
      "Collecting thinc<7.1.0,>=7.0.2 (from spacy)\n",
      "\u001b[?25l  Downloading https://files.pythonhosted.org/packages/92/b1/d7df83813ee3c42d46e6ddf4d4f1d9bd35a4735827d35b7f02539bea3136/thinc-7.0.4-cp37-cp37m-macosx_10_6_intel.macosx_10_9_intel.macosx_10_9_x86_64.macosx_10_10_intel.macosx_10_10_x86_64.whl (2.8MB)\n",
      "\u001b[K    100% |████████████████████████████████| 2.8MB 787kB/s ta 0:00:01    13% |████▏                           | 368kB 762kB/s eta 0:00:04    71% |██████████████████████▉         | 2.0MB 1.0MB/s eta 0:00:01\n",
      "\u001b[?25hCollecting murmurhash<1.1.0,>=0.28.0 (from spacy)\n",
      "  Using cached https://files.pythonhosted.org/packages/b9/bd/faace403086ee922afc74e5615cb8c21020fcf5d5667314e943c08f71fde/murmurhash-1.0.2-cp37-cp37m-macosx_10_6_intel.macosx_10_9_intel.macosx_10_9_x86_64.macosx_10_10_intel.macosx_10_10_x86_64.whl\n",
      "Collecting blis<0.3.0,>=0.2.2 (from spacy)\n",
      "  Using cached https://files.pythonhosted.org/packages/36/41/9e934e2b8a2cdae447ed1923a94f98c2d70c898b65af6635f5fe55f7ed4d/blis-0.2.4-cp37-cp37m-macosx_10_6_intel.macosx_10_9_intel.macosx_10_9_x86_64.macosx_10_10_intel.macosx_10_10_x86_64.whl\n",
      "Collecting plac<1.0.0,>=0.9.6 (from spacy)\n",
      "  Using cached https://files.pythonhosted.org/packages/9e/9b/62c60d2f5bc135d2aa1d8c8a86aaf84edb719a59c7f11a4316259e61a298/plac-0.9.6-py2.py3-none-any.whl\n",
      "Collecting srsly<1.1.0,>=0.0.5 (from spacy)\n",
      "  Using cached https://files.pythonhosted.org/packages/c8/b2/d2cc9f5aa5a458aca45d8689279b41d4b42ba4e8c63b0cb6a9f009340fd0/srsly-0.0.5-cp37-cp37m-macosx_10_6_intel.macosx_10_9_intel.macosx_10_9_x86_64.macosx_10_10_intel.macosx_10_10_x86_64.whl\n",
      "Requirement already satisfied: requests<3.0.0,>=2.13.0 in /Users/lambda_school_loaner_32/anaconda3/lib/python3.7/site-packages (from spacy) (2.19.1)\n",
      "Requirement already satisfied: jsonschema<3.0.0,>=2.6.0 in /Users/lambda_school_loaner_32/anaconda3/lib/python3.7/site-packages (from spacy) (2.6.0)\n",
      "Requirement already satisfied: numpy>=1.15.0 in /Users/lambda_school_loaner_32/anaconda3/lib/python3.7/site-packages (from spacy) (1.15.1)\n",
      "Requirement already satisfied: tqdm<5.0.0,>=4.10.0 in /Users/lambda_school_loaner_32/anaconda3/lib/python3.7/site-packages (from thinc<7.1.0,>=7.0.2->spacy) (4.26.0)\n",
      "Requirement already satisfied: urllib3<1.24,>=1.21.1 in /Users/lambda_school_loaner_32/anaconda3/lib/python3.7/site-packages (from requests<3.0.0,>=2.13.0->spacy) (1.23)\n",
      "Requirement already satisfied: chardet<3.1.0,>=3.0.2 in /Users/lambda_school_loaner_32/anaconda3/lib/python3.7/site-packages (from requests<3.0.0,>=2.13.0->spacy) (3.0.4)\n",
      "Requirement already satisfied: idna<2.8,>=2.5 in /Users/lambda_school_loaner_32/anaconda3/lib/python3.7/site-packages (from requests<3.0.0,>=2.13.0->spacy) (2.7)\n",
      "Requirement already satisfied: certifi>=2017.4.17 in /Users/lambda_school_loaner_32/anaconda3/lib/python3.7/site-packages (from requests<3.0.0,>=2.13.0->spacy) (2018.11.29)\n",
      "Building wheels for collected packages: spacy\n",
      "  Building wheel for spacy (PEP 517) ... \u001b[?25ldone\n",
      "\u001b[?25h  Stored in directory: /Users/lambda_school_loaner_32/Library/Caches/pip/wheels/67/16/2b/95f509d3ed9752e575649e4072f072363e75146ac06d09195a\n",
      "Successfully built spacy\n",
      "Installing collected packages: cymem, wasabi, preshed, murmurhash, plac, srsly, blis, thinc, spacy\n",
      "Successfully installed blis-0.2.4 cymem-2.0.2 murmurhash-1.0.2 plac-0.9.6 preshed-2.0.1 spacy-2.1.3 srsly-0.0.5 thinc-7.0.4 wasabi-0.2.1\n",
      "\u001b[33mYou are using pip version 19.0.3, however version 19.1 is available.\n",
      "You should consider upgrading via the 'pip install --upgrade pip' command.\u001b[0m\n"
     ]
    }
   ],
   "source": [
    "import pandas as pd\n",
    "import numpy as np\n",
    "!pip install spacy\n",
    "!python -m spacy download en_core_web_sm"
   ]
  },
  {
   "cell_type": "code",
   "execution_count": 39,
   "metadata": {},
   "outputs": [],
   "source": [
    "import spacy\n",
    "import en_core_web_sm\n",
    "import string\n",
    "from nltk.corpus import stopwords\n",
    "from collections import Counter\n",
    "stopwords = stopwords.words('english')\n",
    "nlp = spacy.load(\"en_core_web_sm\")"
   ]
  },
  {
   "cell_type": "code",
   "execution_count": 2,
   "metadata": {},
   "outputs": [],
   "source": [
    "df = pd.read_csv('Mentors-DS Shared View names redacted.csv')"
   ]
  },
  {
   "cell_type": "code",
   "execution_count": 9,
   "metadata": {},
   "outputs": [
    {
     "data": {
      "text/html": [
       "<div>\n",
       "<style scoped>\n",
       "    .dataframe tbody tr th:only-of-type {\n",
       "        vertical-align: middle;\n",
       "    }\n",
       "\n",
       "    .dataframe tbody tr th {\n",
       "        vertical-align: top;\n",
       "    }\n",
       "\n",
       "    .dataframe thead th {\n",
       "        text-align: right;\n",
       "    }\n",
       "</style>\n",
       "<table border=\"1\" class=\"dataframe\">\n",
       "  <thead>\n",
       "    <tr style=\"text-align: right;\">\n",
       "      <th></th>\n",
       "      <th>City</th>\n",
       "      <th>State</th>\n",
       "      <th>Interest Text</th>\n",
       "      <th>Student Obsessed Score</th>\n",
       "      <th>Deny</th>\n",
       "      <th>Created</th>\n",
       "    </tr>\n",
       "  </thead>\n",
       "  <tbody>\n",
       "    <tr>\n",
       "      <th>0</th>\n",
       "      <td>amsterdam</td>\n",
       "      <td>NY - New York</td>\n",
       "      <td>I think that helping others while getting to k...</td>\n",
       "      <td>NaN</td>\n",
       "      <td>checked</td>\n",
       "      <td>2/22/2019 2:27pm</td>\n",
       "    </tr>\n",
       "    <tr>\n",
       "      <th>1</th>\n",
       "      <td>Fayetteville</td>\n",
       "      <td>NC - North Carolina</td>\n",
       "      <td>I'm a passionate lifelong learner with an inte...</td>\n",
       "      <td>1.0</td>\n",
       "      <td>checked</td>\n",
       "      <td>2/22/2019 2:28pm</td>\n",
       "    </tr>\n",
       "    <tr>\n",
       "      <th>2</th>\n",
       "      <td>Ann Arbor</td>\n",
       "      <td>MI - Michigan</td>\n",
       "      <td>To put in simply, I am a Lambda Graduate and f...</td>\n",
       "      <td>2.0</td>\n",
       "      <td>checked</td>\n",
       "      <td>2/22/2019 2:36pm</td>\n",
       "    </tr>\n",
       "    <tr>\n",
       "      <th>3</th>\n",
       "      <td>Ann Arbor</td>\n",
       "      <td>MI - Michigan</td>\n",
       "      <td>Having been through Lambda, and as a newly hir...</td>\n",
       "      <td>2.0</td>\n",
       "      <td>checked</td>\n",
       "      <td>2/22/2019 2:41pm</td>\n",
       "    </tr>\n",
       "    <tr>\n",
       "      <th>4</th>\n",
       "      <td>Fort Worth</td>\n",
       "      <td>TX - Texas</td>\n",
       "      <td>I love mentoring! I have a background in educa...</td>\n",
       "      <td>1.0</td>\n",
       "      <td>checked</td>\n",
       "      <td>2/22/2019 2:41pm</td>\n",
       "    </tr>\n",
       "    <tr>\n",
       "      <th>5</th>\n",
       "      <td>Boston</td>\n",
       "      <td>MA - Massachusetts</td>\n",
       "      <td>Having directly mentored over 100 high school ...</td>\n",
       "      <td>2.0</td>\n",
       "      <td>NaN</td>\n",
       "      <td>2/22/2019 2:53pm</td>\n",
       "    </tr>\n",
       "    <tr>\n",
       "      <th>6</th>\n",
       "      <td>Salt Lake City</td>\n",
       "      <td>UT - Utah</td>\n",
       "      <td>I love meeting new people and sharing the know...</td>\n",
       "      <td>2.0</td>\n",
       "      <td>NaN</td>\n",
       "      <td>2/22/2019 2:55pm</td>\n",
       "    </tr>\n",
       "    <tr>\n",
       "      <th>7</th>\n",
       "      <td>San Francisco</td>\n",
       "      <td>CA - California</td>\n",
       "      <td>4 years ago I decided to make a career change ...</td>\n",
       "      <td>3.0</td>\n",
       "      <td>NaN</td>\n",
       "      <td>2/22/2019 2:59pm</td>\n",
       "    </tr>\n",
       "    <tr>\n",
       "      <th>8</th>\n",
       "      <td>Kansas City</td>\n",
       "      <td>MO - Missouri</td>\n",
       "      <td>I’ve built a lot of stuff, worked on pretty de...</td>\n",
       "      <td>2.0</td>\n",
       "      <td>NaN</td>\n",
       "      <td>2/22/2019 2:59pm</td>\n",
       "    </tr>\n",
       "    <tr>\n",
       "      <th>9</th>\n",
       "      <td>New York</td>\n",
       "      <td>NY - New York</td>\n",
       "      <td>I follow Austen on Twitter and love your compa...</td>\n",
       "      <td>2.0</td>\n",
       "      <td>NaN</td>\n",
       "      <td>2/22/2019 2:59pm</td>\n",
       "    </tr>\n",
       "    <tr>\n",
       "      <th>10</th>\n",
       "      <td>Lewiston</td>\n",
       "      <td>ID - Idaho</td>\n",
       "      <td>Before becoming a developer, I was a Secondary...</td>\n",
       "      <td>1.0</td>\n",
       "      <td>checked</td>\n",
       "      <td>2/22/2019 3:08pm</td>\n",
       "    </tr>\n",
       "    <tr>\n",
       "      <th>11</th>\n",
       "      <td>San Francisco</td>\n",
       "      <td>CA - California</td>\n",
       "      <td>I spent a month teaching in a refugee camp thi...</td>\n",
       "      <td>2.0</td>\n",
       "      <td>NaN</td>\n",
       "      <td>2/22/2019 3:09pm</td>\n",
       "    </tr>\n",
       "    <tr>\n",
       "      <th>12</th>\n",
       "      <td>Sunnyvale</td>\n",
       "      <td>CA - California</td>\n",
       "      <td>I hope I can use my experience in the software...</td>\n",
       "      <td>3.0</td>\n",
       "      <td>NaN</td>\n",
       "      <td>2/22/2019 3:13pm</td>\n",
       "    </tr>\n",
       "    <tr>\n",
       "      <th>13</th>\n",
       "      <td>Dallas</td>\n",
       "      <td>TX - Texas</td>\n",
       "      <td>I recently went from being unemployed to worki...</td>\n",
       "      <td>2.0</td>\n",
       "      <td>NaN</td>\n",
       "      <td>2/22/2019 3:13pm</td>\n",
       "    </tr>\n",
       "    <tr>\n",
       "      <th>14</th>\n",
       "      <td>Lafayette</td>\n",
       "      <td>CA - California</td>\n",
       "      <td>Lambda's mission is sorely needed to align all...</td>\n",
       "      <td>2.0</td>\n",
       "      <td>NaN</td>\n",
       "      <td>2/22/2019 3:13pm</td>\n",
       "    </tr>\n",
       "  </tbody>\n",
       "</table>\n",
       "</div>"
      ],
      "text/plain": [
       "              City                 State  \\\n",
       "0        amsterdam        NY - New York    \n",
       "1    Fayetteville   NC - North Carolina    \n",
       "2        Ann Arbor        MI - Michigan    \n",
       "3        Ann Arbor        MI - Michigan    \n",
       "4       Fort Worth           TX - Texas    \n",
       "5           Boston   MA - Massachusetts    \n",
       "6   Salt Lake City            UT - Utah    \n",
       "7    San Francisco      CA - California    \n",
       "8      Kansas City        MO - Missouri    \n",
       "9         New York        NY - New York    \n",
       "10        Lewiston           ID - Idaho    \n",
       "11   San Francisco      CA - California    \n",
       "12       Sunnyvale      CA - California    \n",
       "13          Dallas           TX - Texas    \n",
       "14       Lafayette      CA - California    \n",
       "\n",
       "                                        Interest Text  Student Obsessed Score  \\\n",
       "0   I think that helping others while getting to k...                     NaN   \n",
       "1   I'm a passionate lifelong learner with an inte...                     1.0   \n",
       "2   To put in simply, I am a Lambda Graduate and f...                     2.0   \n",
       "3   Having been through Lambda, and as a newly hir...                     2.0   \n",
       "4   I love mentoring! I have a background in educa...                     1.0   \n",
       "5   Having directly mentored over 100 high school ...                     2.0   \n",
       "6   I love meeting new people and sharing the know...                     2.0   \n",
       "7   4 years ago I decided to make a career change ...                     3.0   \n",
       "8   I’ve built a lot of stuff, worked on pretty de...                     2.0   \n",
       "9   I follow Austen on Twitter and love your compa...                     2.0   \n",
       "10  Before becoming a developer, I was a Secondary...                     1.0   \n",
       "11  I spent a month teaching in a refugee camp thi...                     2.0   \n",
       "12  I hope I can use my experience in the software...                     3.0   \n",
       "13  I recently went from being unemployed to worki...                     2.0   \n",
       "14  Lambda's mission is sorely needed to align all...                     2.0   \n",
       "\n",
       "       Deny           Created  \n",
       "0   checked  2/22/2019 2:27pm  \n",
       "1   checked  2/22/2019 2:28pm  \n",
       "2   checked  2/22/2019 2:36pm  \n",
       "3   checked  2/22/2019 2:41pm  \n",
       "4   checked  2/22/2019 2:41pm  \n",
       "5       NaN  2/22/2019 2:53pm  \n",
       "6       NaN  2/22/2019 2:55pm  \n",
       "7       NaN  2/22/2019 2:59pm  \n",
       "8       NaN  2/22/2019 2:59pm  \n",
       "9       NaN  2/22/2019 2:59pm  \n",
       "10  checked  2/22/2019 3:08pm  \n",
       "11      NaN  2/22/2019 3:09pm  \n",
       "12      NaN  2/22/2019 3:13pm  \n",
       "13      NaN  2/22/2019 3:13pm  \n",
       "14      NaN  2/22/2019 3:13pm  "
      ]
     },
     "execution_count": 9,
     "metadata": {},
     "output_type": "execute_result"
    }
   ],
   "source": [
    "df.head(15)"
   ]
  },
  {
   "cell_type": "code",
   "execution_count": 4,
   "metadata": {},
   "outputs": [
    {
     "data": {
      "text/plain": [
       "(398, 6)"
      ]
     },
     "execution_count": 4,
     "metadata": {},
     "output_type": "execute_result"
    }
   ],
   "source": [
    "df.shape"
   ]
  },
  {
   "cell_type": "code",
   "execution_count": 8,
   "metadata": {},
   "outputs": [
    {
     "data": {
      "text/plain": [
       "City                        0\n",
       "State                       1\n",
       "Interest Text               9\n",
       "Student Obsessed Score     24\n",
       "Deny                      330\n",
       "Created                     0\n",
       "dtype: int64"
      ]
     },
     "execution_count": 8,
     "metadata": {},
     "output_type": "execute_result"
    }
   ],
   "source": [
    "df.isnull().sum()"
   ]
  },
  {
   "cell_type": "code",
   "execution_count": 12,
   "metadata": {},
   "outputs": [
    {
     "data": {
      "text/plain": [
       "array(['checked', nan], dtype=object)"
      ]
     },
     "execution_count": 12,
     "metadata": {},
     "output_type": "execute_result"
    }
   ],
   "source": [
    "df.Deny.unique()"
   ]
  },
  {
   "cell_type": "code",
   "execution_count": 14,
   "metadata": {},
   "outputs": [
    {
     "data": {
      "text/plain": [
       "array([nan,  1.,  2.,  3.])"
      ]
     },
     "execution_count": 14,
     "metadata": {},
     "output_type": "execute_result"
    }
   ],
   "source": [
    "df['Student Obsessed Score'].unique()"
   ]
  },
  {
   "cell_type": "code",
   "execution_count": 19,
   "metadata": {},
   "outputs": [
    {
     "data": {
      "text/html": [
       "<div>\n",
       "<style scoped>\n",
       "    .dataframe tbody tr th:only-of-type {\n",
       "        vertical-align: middle;\n",
       "    }\n",
       "\n",
       "    .dataframe tbody tr th {\n",
       "        vertical-align: top;\n",
       "    }\n",
       "\n",
       "    .dataframe thead th {\n",
       "        text-align: right;\n",
       "    }\n",
       "</style>\n",
       "<table border=\"1\" class=\"dataframe\">\n",
       "  <thead>\n",
       "    <tr style=\"text-align: right;\">\n",
       "      <th></th>\n",
       "      <th>City</th>\n",
       "      <th>State</th>\n",
       "      <th>Interest Text</th>\n",
       "      <th>Student Obsessed Score</th>\n",
       "      <th>Deny</th>\n",
       "      <th>Created</th>\n",
       "    </tr>\n",
       "  </thead>\n",
       "  <tbody>\n",
       "    <tr>\n",
       "      <th>count</th>\n",
       "      <td>398</td>\n",
       "      <td>397</td>\n",
       "      <td>389</td>\n",
       "      <td>374.000000</td>\n",
       "      <td>68</td>\n",
       "      <td>398</td>\n",
       "    </tr>\n",
       "    <tr>\n",
       "      <th>unique</th>\n",
       "      <td>164</td>\n",
       "      <td>53</td>\n",
       "      <td>388</td>\n",
       "      <td>NaN</td>\n",
       "      <td>1</td>\n",
       "      <td>320</td>\n",
       "    </tr>\n",
       "    <tr>\n",
       "      <th>top</th>\n",
       "      <td>San Francisco</td>\n",
       "      <td>CA - California</td>\n",
       "      <td>The second I heard about Lambda schools I knew...</td>\n",
       "      <td>NaN</td>\n",
       "      <td>checked</td>\n",
       "      <td>4/12/2019 10:54am</td>\n",
       "    </tr>\n",
       "    <tr>\n",
       "      <th>freq</th>\n",
       "      <td>69</td>\n",
       "      <td>98</td>\n",
       "      <td>2</td>\n",
       "      <td>NaN</td>\n",
       "      <td>68</td>\n",
       "      <td>33</td>\n",
       "    </tr>\n",
       "    <tr>\n",
       "      <th>mean</th>\n",
       "      <td>NaN</td>\n",
       "      <td>NaN</td>\n",
       "      <td>NaN</td>\n",
       "      <td>2.080214</td>\n",
       "      <td>NaN</td>\n",
       "      <td>NaN</td>\n",
       "    </tr>\n",
       "    <tr>\n",
       "      <th>std</th>\n",
       "      <td>NaN</td>\n",
       "      <td>NaN</td>\n",
       "      <td>NaN</td>\n",
       "      <td>0.787968</td>\n",
       "      <td>NaN</td>\n",
       "      <td>NaN</td>\n",
       "    </tr>\n",
       "    <tr>\n",
       "      <th>min</th>\n",
       "      <td>NaN</td>\n",
       "      <td>NaN</td>\n",
       "      <td>NaN</td>\n",
       "      <td>1.000000</td>\n",
       "      <td>NaN</td>\n",
       "      <td>NaN</td>\n",
       "    </tr>\n",
       "    <tr>\n",
       "      <th>25%</th>\n",
       "      <td>NaN</td>\n",
       "      <td>NaN</td>\n",
       "      <td>NaN</td>\n",
       "      <td>1.000000</td>\n",
       "      <td>NaN</td>\n",
       "      <td>NaN</td>\n",
       "    </tr>\n",
       "    <tr>\n",
       "      <th>50%</th>\n",
       "      <td>NaN</td>\n",
       "      <td>NaN</td>\n",
       "      <td>NaN</td>\n",
       "      <td>2.000000</td>\n",
       "      <td>NaN</td>\n",
       "      <td>NaN</td>\n",
       "    </tr>\n",
       "    <tr>\n",
       "      <th>75%</th>\n",
       "      <td>NaN</td>\n",
       "      <td>NaN</td>\n",
       "      <td>NaN</td>\n",
       "      <td>3.000000</td>\n",
       "      <td>NaN</td>\n",
       "      <td>NaN</td>\n",
       "    </tr>\n",
       "    <tr>\n",
       "      <th>max</th>\n",
       "      <td>NaN</td>\n",
       "      <td>NaN</td>\n",
       "      <td>NaN</td>\n",
       "      <td>3.000000</td>\n",
       "      <td>NaN</td>\n",
       "      <td>NaN</td>\n",
       "    </tr>\n",
       "  </tbody>\n",
       "</table>\n",
       "</div>"
      ],
      "text/plain": [
       "                 City             State  \\\n",
       "count             398               397   \n",
       "unique            164                53   \n",
       "top     San Francisco  CA - California    \n",
       "freq               69                98   \n",
       "mean              NaN               NaN   \n",
       "std               NaN               NaN   \n",
       "min               NaN               NaN   \n",
       "25%               NaN               NaN   \n",
       "50%               NaN               NaN   \n",
       "75%               NaN               NaN   \n",
       "max               NaN               NaN   \n",
       "\n",
       "                                            Interest Text  \\\n",
       "count                                                 389   \n",
       "unique                                                388   \n",
       "top     The second I heard about Lambda schools I knew...   \n",
       "freq                                                    2   \n",
       "mean                                                  NaN   \n",
       "std                                                   NaN   \n",
       "min                                                   NaN   \n",
       "25%                                                   NaN   \n",
       "50%                                                   NaN   \n",
       "75%                                                   NaN   \n",
       "max                                                   NaN   \n",
       "\n",
       "        Student Obsessed Score     Deny            Created  \n",
       "count               374.000000       68                398  \n",
       "unique                     NaN        1                320  \n",
       "top                        NaN  checked  4/12/2019 10:54am  \n",
       "freq                       NaN       68                 33  \n",
       "mean                  2.080214      NaN                NaN  \n",
       "std                   0.787968      NaN                NaN  \n",
       "min                   1.000000      NaN                NaN  \n",
       "25%                   1.000000      NaN                NaN  \n",
       "50%                   2.000000      NaN                NaN  \n",
       "75%                   3.000000      NaN                NaN  \n",
       "max                   3.000000      NaN                NaN  "
      ]
     },
     "execution_count": 19,
     "metadata": {},
     "output_type": "execute_result"
    }
   ],
   "source": [
    "df.describe(include=\"all\")"
   ]
  },
  {
   "cell_type": "code",
   "execution_count": 20,
   "metadata": {},
   "outputs": [
    {
     "data": {
      "text/plain": [
       "array(['NY - New York ', 'NC - North Carolina ', 'MI - Michigan ',\n",
       "       'TX - Texas ', 'MA - Massachusetts ', 'UT - Utah ',\n",
       "       'CA - California ', 'MO - Missouri ', 'ID - Idaho ',\n",
       "       'MD - Maryland ', 'AL - Alabama ', 'FL - Florida ',\n",
       "       'ND - North Dakota ', 'MT - Montana ', 'IL - Illinois ',\n",
       "       'CO - Colorado ', 'WA - Washington ', 'OH - Ohio ',\n",
       "       'TN - Tennessee ', 'GA - Georgia ', 'MN - Minnesota ',\n",
       "       'OR - Oregon ', 'AZ - Arizona ', 'DC - Washington DC',\n",
       "       'IA - Iowa ', 'KY - Kentucky ', 'CT - Connecticut ',\n",
       "       'IN - Indiana ', 'AK - Alaska ', 'WI - Wisconsin ',\n",
       "       'PA - Pennsylvania ', 'NH - New Hampshire ', 'HI - Hawaii ',\n",
       "       'UT - Utah', 'NC - North Carolina', 'CA - California',\n",
       "       'TX - Texas', 'MT - Montana', 'AL - Alabama', 'NY - New York',\n",
       "       'MA - Massachusetts', 'HI - Hawaii', nan, 'Not in US',\n",
       "       'MN - Minnesota', 'OH - Ohio', 'VT - Vermont ', 'WA - Washington',\n",
       "       'NV - Nevada ', 'MD - Maryland', 'VA - Virginia', 'MO - Missouri',\n",
       "       'MI - Michigan', 'NE - Nebraska '], dtype=object)"
      ]
     },
     "execution_count": 20,
     "metadata": {},
     "output_type": "execute_result"
    }
   ],
   "source": [
    "df.State.unique()"
   ]
  },
  {
   "cell_type": "code",
   "execution_count": 22,
   "metadata": {},
   "outputs": [],
   "source": [
    "df.Deny = df.Deny.fillna(0)"
   ]
  },
  {
   "cell_type": "code",
   "execution_count": 24,
   "metadata": {},
   "outputs": [],
   "source": [
    "df.Deny = df.Deny.replace('checked', 1)"
   ]
  },
  {
   "cell_type": "code",
   "execution_count": 43,
   "metadata": {
    "scrolled": true
   },
   "outputs": [],
   "source": [
    "df['Interest Text'].fillna('', inplace=True)"
   ]
  },
  {
   "cell_type": "code",
   "execution_count": 44,
   "metadata": {},
   "outputs": [],
   "source": [
    "nlp = en_core_web_sm.load()\n",
    "punctuations = string.punctuation\n",
    "\n",
    "def cleanup_text(docs, logging=False):\n",
    "    texts = []\n",
    "    counter = 1\n",
    "    for doc in docs:\n",
    "        if counter % 1000 == 0 and logging:\n",
    "            print(\"Processed %d out of %d documents.\" % (counter, len(docs)))\n",
    "        counter += 1\n",
    "        try:\n",
    "            doc = nlp(doc, disable=['parser', 'ner'])\n",
    "            tokens = [tok.lemma_.lower().strip() for tok in doc if tok.lemma_ != '-PRON-']\n",
    "            tokens = [tok for tok in tokens if tok not in stopwords and tok not in punctuations]\n",
    "            tokens = ' '.join(tokens)\n",
    "            texts.append(tokens)\n",
    "        except:\n",
    "            print(doc)  \n",
    "    return pd.Series(texts)\n",
    "\n",
    "approved_text = [text for text in df[df['Deny'] == 0]['Interest Text']]\n",
    "approved_clean = cleanup_text(approved_text)\n",
    "approved_clean = ' '.join(approved_clean).split()\n",
    "approved_counts = Counter(approved_clean)\n",
    "\n",
    "denied_text = [text for text in df[df['Deny'] == 1]['Interest Text']]\n",
    "denied_clean = cleanup_text(denied_text)\n",
    "denied_clean = ' '.join(denied_clean).split()\n",
    "denied_counts = Counter(denied_clean)"
   ]
  },
  {
   "cell_type": "code",
   "execution_count": 48,
   "metadata": {},
   "outputs": [
    {
     "data": {
      "image/png": "[encoded data removed]",
      "text/plain": [
       "<Figure size 1296x432 with 1 Axes>"
      ]
     },
     "metadata": {
      "needs_background": "light"
     },
     "output_type": "display_data"
    }
   ],
   "source": [
    "import matplotlib.pyplot as plt\n",
    "import seaborn as sns\n",
    "\n",
    "approved_common_words = [word[0] for word in approved_counts.most_common(20)]\n",
    "approved_common_counts = [word[1] for word in approved_counts.most_common(20)]\n",
    "fig = plt.figure(figsize=(18,6))\n",
    "sns.barplot(x=approved_common_words, y=approved_common_counts)\n",
    "plt.title(\"Most Common Words used in posts for Approved Mentors'\")\n",
    "plt.show()"
   ]
  },
  {
   "cell_type": "code",
   "execution_count": 49,
   "metadata": {},
   "outputs": [
    {
     "data": {
      "image/png": "[encoded data removed]",
      "text/plain": [
       "<Figure size 1296x432 with 1 Axes>"
      ]
     },
     "metadata": {
      "needs_background": "light"
     },
     "output_type": "display_data"
    }
   ],
   "source": [
    "denied_common_words = [word[0] for word in denied_counts.most_common(20)]\n",
    "denied_common_counts = [word[1] for word in denied_counts.most_common(20)]\n",
    "fig = plt.figure(figsize=(18,6))\n",
    "sns.barplot(x=denied_common_words, y=denied_common_counts)\n",
    "plt.title(\"Most Common Words used in posts for Denied Mentors'\")\n",
    "plt.show()"
   ]
  },
  {
   "cell_type": "code",
   "execution_count": null,
   "metadata": {},
   "outputs": [],
   "source": []
  }
 ],
 "metadata": {
  "kernelspec": {
   "display_name": "Python 3",
   "language": "python",
   "name": "python3"
  },
  "language_info": {
   "codemirror_mode": {
    "name": "ipython",
    "version": 3
   },
   "file_extension": ".py",
   "mimetype": "text/x-python",
   "name": "python",
   "nbconvert_exporter": "python",
   "pygments_lexer": "ipython3",
   "version": "3.7.2"
  }
 },
 "nbformat": 4,
 "nbformat_minor": 2
}
